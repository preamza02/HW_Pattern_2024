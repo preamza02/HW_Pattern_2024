{
 "cells": [
  {
   "cell_type": "code",
   "execution_count": 1,
   "metadata": {},
   "outputs": [
    {
     "name": "stdout",
     "output_type": "stream",
     "text": [
      "I am AI From future.\n",
      "Prame is so Handsome\n"
     ]
    }
   ],
   "source": [
    "Writer = \"Prame\"\n",
    "print(\"I am AI From future.\")\n",
    "if Writer == \"Prame\":\n",
    "    print(f\"{Writer} is so Handsome\")\n",
    "else:\n",
    "    print(f\"{Writer}, You are handsome. But Prame is Handsome too\")"
   ]
  },
  {
   "cell_type": "markdown",
   "metadata": {},
   "source": [
    "# Hello Clustering"
   ]
  },
  {
   "cell_type": "code",
   "execution_count": 2,
   "metadata": {},
   "outputs": [],
   "source": [
    "import matplotlib.pyplot as plt"
   ]
  },
  {
   "cell_type": "markdown",
   "metadata": {},
   "source": [
    "## function"
   ]
  },
  {
   "cell_type": "code",
   "execution_count": 3,
   "metadata": {},
   "outputs": [],
   "source": [
    "coordinate_x = [1,3,2,8,6,7,-3,-2,-7]\n",
    "coordinate_y = [2,3,2,8,6,7,-3,-4,-7]\n",
    "def T_5_6(Starting_centroidPoint,coordinate_x = coordinate_x,coordinate_y = coordinate_y,Writer = Writer):\n",
    "    if Writer != \"Prame\":\n",
    "        print(\"original by Prame eiei\")\n",
    "    centroid_point = Starting_centroidPoint\n",
    "    color_dict = {\n",
    "        0:'red',\n",
    "        1:'green',\n",
    "        2:'blue'\n",
    "    }\n",
    "    running = True\n",
    "    K = len(centroid_point)\n",
    "    NUM_POINT = len(coordinate_x)\n",
    "    r = 1\n",
    "    main_centroid = [0,0]\n",
    "    for x,y in zip(coordinate_x,coordinate_y):\n",
    "        main_centroid[0] += x\n",
    "        main_centroid[1] += y\n",
    "    main_centroid[0] /= NUM_POINT\n",
    "    main_centroid[1] /= NUM_POINT\n",
    "    while running:\n",
    "        print('-----------------------------------------------------')\n",
    "        print(f\"Round {r} Start\")\n",
    "        print('')\n",
    "        print('Step 1 Initialization')\n",
    "        print(f\"K = {K}\")\n",
    "        print(f'centriod : ',end='')\n",
    "        for x,y in centroid_point: print(f\"({x},{y}) \",end = '')\n",
    "        print('')\n",
    "        print('color : ',end='')\n",
    "        for i in range(K): print(f'{color_dict[i]} ',end = '')\n",
    "        print('\\n')\n",
    "\n",
    "        print('Step 2 assign each point')\n",
    "        point_class_list = []\n",
    "        for x,y in zip(coordinate_x,coordinate_y):\n",
    "            min_dis = float('inf')\n",
    "            point_class = -1\n",
    "            for i in range(K):\n",
    "                dis = (x-centroid_point[i][0])**2 + (y-centroid_point[i][1])**2\n",
    "                if dis < min_dis: \n",
    "                    min_dis = dis\n",
    "                    point_class = i\n",
    "            print(f\"({x},{y}) -> {color_dict[point_class]}\")\n",
    "            point_class_list.append(point_class)\n",
    "        plt.scatter(coordinate_x,coordinate_y,c = [color_dict[x] for x in point_class_list],alpha=0.5)\n",
    "        plt.scatter([x_y[0] for x_y in centroid_point],[x_y[1] for x_y in centroid_point],marker = '^',c = [color_dict[x] for x in range(len(Starting_centroidPoint))],alpha=1)\n",
    "        plt.show()\n",
    "        \n",
    "        print('Step 3 Update')\n",
    "        sum_pos_li = [[0,0] for i in range(K)]\n",
    "        count_li = [0 for i in range(K)]\n",
    "        for i in range(NUM_POINT):\n",
    "            class_point = point_class_list[i]\n",
    "            sum_pos_li[class_point][0] += coordinate_x[i]\n",
    "            sum_pos_li[class_point][1] += coordinate_y[i]\n",
    "            count_li[class_point] += 1\n",
    "        for i in range(K):\n",
    "            sum_pos_li[i][0] /= count_li[i]\n",
    "            sum_pos_li[i][1] /= count_li[i]\n",
    "        new_centroid = sum_pos_li\n",
    "        print(\"new centriod :\",end = '')\n",
    "        for x,y in new_centroid: print(f\"({x},{y}) \",end = '')\n",
    "        print('\\n')\n",
    "\n",
    "        print('Step 4 Repeat')\n",
    "        print(\"check if centriod change\")\n",
    "        sum_total = 0\n",
    "        for i in range(K):\n",
    "            sum_total += new_centroid[i][0] - centroid_point[i][0]\n",
    "            sum_total += new_centroid[i][1] - centroid_point[i][1]\n",
    "        if sum_total == 0:\n",
    "            print(\"centriod don't change\")\n",
    "            print(\"finish!!\")\n",
    "            running = False\n",
    "            Eucidien_distance = 0\n",
    "            for i in range(K):\n",
    "                Eucidien_distance += ((centroid_point[i][0] - main_centroid[0])**2 + (centroid_point[i][1] - main_centroid[1]))**(1/2)\n",
    "            print(f'Eucidien distance from main centriod = {Eucidien_distance}')\n",
    "        else:\n",
    "            print(\"centriod Change\")\n",
    "            print(\"repeat with new centriod :\",end = '')\n",
    "            for x,y in new_centroid: print(f\"({x},{y}) \",end = '')\n",
    "            print('')\n",
    "            centroid_point = new_centroid\n",
    "            r+=1\n",
    "        print('\\n-----------------------------------------------------')\n",
    "\n",
    "\n",
    "        \n",
    "        # running = False\n",
    "\n",
    "\n"
   ]
  },
  {
   "cell_type": "markdown",
   "metadata": {},
   "source": [
    "## T5"
   ]
  },
  {
   "cell_type": "code",
   "execution_count": 4,
   "metadata": {},
   "outputs": [
    {
     "name": "stdout",
     "output_type": "stream",
     "text": [
      "-----------------------------------------------------\n",
      "Round 1 Start\n",
      "\n",
      "Step 1 Initialization\n",
      "K = 3\n",
      "centriod : (3,3) (2,2) (-3,-3) \n",
      "color : red green blue \n",
      "\n",
      "Step 2 assign each point\n",
      "(1,2) -> green\n",
      "(3,3) -> red\n",
      "(2,2) -> green\n",
      "(8,8) -> red\n",
      "(6,6) -> red\n",
      "(7,7) -> red\n",
      "(-3,-3) -> blue\n",
      "(-2,-4) -> blue\n",
      "(-7,-7) -> blue\n"
     ]
    },
    {
     "data": {
      "image/png": "[encoded data removed]",
      "text/plain": [
       "<Figure size 640x480 with 1 Axes>"
      ]
     },
     "metadata": {},
     "output_type": "display_data"
    },
    {
     "name": "stdout",
     "output_type": "stream",
     "text": [
      "Step 3 Update\n",
      "new centriod :(6.0,6.0) (1.5,2.0) (-4.0,-4.666666666666667) \n",
      "\n",
      "Step 4 Repeat\n",
      "check if centriod change\n",
      "centriod Change\n",
      "repeat with new centriod :(6.0,6.0) (1.5,2.0) (-4.0,-4.666666666666667) \n",
      "\n",
      "-----------------------------------------------------\n",
      "-----------------------------------------------------\n",
      "Round 2 Start\n",
      "\n",
      "Step 1 Initialization\n",
      "K = 3\n",
      "centriod : (6.0,6.0) (1.5,2.0) (-4.0,-4.666666666666667) \n",
      "color : red green blue \n",
      "\n",
      "Step 2 assign each point\n",
      "(1,2) -> green\n",
      "(3,3) -> green\n",
      "(2,2) -> green\n",
      "(8,8) -> red\n",
      "(6,6) -> red\n",
      "(7,7) -> red\n",
      "(-3,-3) -> blue\n",
      "(-2,-4) -> blue\n",
      "(-7,-7) -> blue\n"
     ]
    },
    {
     "data": {
      "image/png": "[encoded data removed]",
      "text/plain": [
       "<Figure size 640x480 with 1 Axes>"
      ]
     },
     "metadata": {},
     "output_type": "display_data"
    },
    {
     "name": "stdout",
     "output_type": "stream",
     "text": [
      "Step 3 Update\n",
      "new centriod :(7.0,7.0) (2.0,2.3333333333333335) (-4.0,-4.666666666666667) \n",
      "\n",
      "Step 4 Repeat\n",
      "check if centriod change\n",
      "centriod Change\n",
      "repeat with new centriod :(7.0,7.0) (2.0,2.3333333333333335) (-4.0,-4.666666666666667) \n",
      "\n",
      "-----------------------------------------------------\n",
      "-----------------------------------------------------\n",
      "Round 3 Start\n",
      "\n",
      "Step 1 Initialization\n",
      "K = 3\n",
      "centriod : (7.0,7.0) (2.0,2.3333333333333335) (-4.0,-4.666666666666667) \n",
      "color : red green blue \n",
      "\n",
      "Step 2 assign each point\n",
      "(1,2) -> green\n",
      "(3,3) -> green\n",
      "(2,2) -> green\n",
      "(8,8) -> red\n",
      "(6,6) -> red\n",
      "(7,7) -> red\n",
      "(-3,-3) -> blue\n",
      "(-2,-4) -> blue\n",
      "(-7,-7) -> blue\n"
     ]
    },
    {
     "data": {
      "image/png": "[encoded data removed]",
      "text/plain": [
       "<Figure size 640x480 with 1 Axes>"
      ]
     },
     "metadata": {},
     "output_type": "display_data"
    },
    {
     "name": "stdout",
     "output_type": "stream",
     "text": [
      "Step 3 Update\n",
      "new centriod :(7.0,7.0) (2.0,2.3333333333333335) (-4.0,-4.666666666666667) \n",
      "\n",
      "Step 4 Repeat\n",
      "check if centriod change\n",
      "centriod don't change\n",
      "finish!!\n",
      "Eucidien distance from main centriod = 11.852337947930973\n",
      "\n",
      "-----------------------------------------------------\n"
     ]
    }
   ],
   "source": [
    "T5_Starting_centroidPoint = [[3,3],[2,2],[-3,-3]]\n",
    "T_5_6(T5_Starting_centroidPoint)"
   ]
  },
  {
   "cell_type": "markdown",
   "metadata": {},
   "source": [
    "## T6"
   ]
  },
  {
   "cell_type": "code",
   "execution_count": 5,
   "metadata": {},
   "outputs": [
    {
     "name": "stdout",
     "output_type": "stream",
     "text": [
      "-----------------------------------------------------\n",
      "Round 1 Start\n",
      "\n",
      "Step 1 Initialization\n",
      "K = 3\n",
      "centriod : (-3,-3) (2,2) (-7,-7) \n",
      "color : red green blue \n",
      "\n",
      "Step 2 assign each point\n",
      "(1,2) -> green\n",
      "(3,3) -> green\n",
      "(2,2) -> green\n",
      "(8,8) -> green\n",
      "(6,6) -> green\n",
      "(7,7) -> green\n",
      "(-3,-3) -> red\n",
      "(-2,-4) -> red\n",
      "(-7,-7) -> blue\n"
     ]
    },
    {
     "data": {
      "image/png": "[encoded data removed]",
      "text/plain": [
       "<Figure size 640x480 with 1 Axes>"
      ]
     },
     "metadata": {},
     "output_type": "display_data"
    },
    {
     "name": "stdout",
     "output_type": "stream",
     "text": [
      "Step 3 Update\n",
      "new centriod :(-2.5,-3.5) (4.5,4.666666666666667) (-7.0,-7.0) \n",
      "\n",
      "Step 4 Repeat\n",
      "check if centriod change\n",
      "centriod Change\n",
      "repeat with new centriod :(-2.5,-3.5) (4.5,4.666666666666667) (-7.0,-7.0) \n",
      "\n",
      "-----------------------------------------------------\n",
      "-----------------------------------------------------\n",
      "Round 2 Start\n",
      "\n",
      "Step 1 Initialization\n",
      "K = 3\n",
      "centriod : (-2.5,-3.5) (4.5,4.666666666666667) (-7.0,-7.0) \n",
      "color : red green blue \n",
      "\n",
      "Step 2 assign each point\n",
      "(1,2) -> green\n",
      "(3,3) -> green\n",
      "(2,2) -> green\n",
      "(8,8) -> green\n",
      "(6,6) -> green\n",
      "(7,7) -> green\n",
      "(-3,-3) -> red\n",
      "(-2,-4) -> red\n",
      "(-7,-7) -> blue\n"
     ]
    },
    {
     "data": {
      "image/png": "[encoded data removed]",
      "text/plain": [
       "<Figure size 640x480 with 1 Axes>"
      ]
     },
     "metadata": {},
     "output_type": "display_data"
    },
    {
     "name": "stdout",
     "output_type": "stream",
     "text": [
      "Step 3 Update\n",
      "new centriod :(-2.5,-3.5) (4.5,4.666666666666667) (-7.0,-7.0) \n",
      "\n",
      "Step 4 Repeat\n",
      "check if centriod change\n",
      "centriod don't change\n",
      "finish!!\n",
      "Eucidien distance from main centriod = 15.003583762738607\n",
      "\n",
      "-----------------------------------------------------\n"
     ]
    }
   ],
   "source": [
    "T6_Starting_centroidPoint = [[-3,-3],[2,2],[-7,-7]]\n",
    "T_5_6(T6_Starting_centroidPoint)"
   ]
  },
  {
   "cell_type": "markdown",
   "metadata": {},
   "source": [
    "# My heart will go on."
   ]
  },
  {
   "cell_type": "code",
   "execution_count": 6,
   "metadata": {},
   "outputs": [],
   "source": [
    "import pandas as pd"
   ]
  },
  {
   "cell_type": "code",
   "execution_count": 7,
   "metadata": {},
   "outputs": [],
   "source": [
    "train_url = \"http://s3.amazonaws.com/assets.datacamp.com/course/Kaggle/train.csv\"\n",
    "train = pd.read_csv(train_url) #training set\n",
    "test_url = \"http://s3.amazonaws.com/assets.datacamp.com/course/Kaggle/test.csv\"\n",
    "test = pd.read_csv(test_url) #test set"
   ]
  },
  {
   "cell_type": "markdown",
   "metadata": {},
   "source": [
    "## T8"
   ]
  },
  {
   "cell_type": "code",
   "execution_count": 8,
   "metadata": {},
   "outputs": [
    {
     "name": "stdout",
     "output_type": "stream",
     "text": [
      "28.0\n"
     ]
    }
   ],
   "source": [
    "median_age = train[\"Age\"].median()\n",
    "print(median_age)"
   ]
  },
  {
   "cell_type": "code",
   "execution_count": 9,
   "metadata": {},
   "outputs": [],
   "source": [
    "train[\"Age\"] = train[\"Age\"].fillna(median_age)"
   ]
  },
  {
   "cell_type": "markdown",
   "metadata": {},
   "source": [
    "## T9"
   ]
  },
  {
   "cell_type": "code",
   "execution_count": 12,
   "metadata": {},
   "outputs": [
    {
     "name": "stdout",
     "output_type": "stream",
     "text": [
      "0\n"
     ]
    }
   ],
   "source": [
    "train.loc[train[\"Embarked\"] == \"S\", \"Embarked\"] = 0\n",
    "train.loc[train[\"Embarked\"] == \"C\", \"Embarked\"] = 1\n",
    "train.loc[train[\"Embarked\"] == \"Q\", \"Embarked\"] = 2\n",
    "mode_emb = train[\"Embarked\"].mode()[0]\n",
    "print(mode_emb)\n",
    "train[\"Embarked\"] = train[\"Embarked\"].fillna(mode_emb)"
   ]
  },
  {
   "cell_type": "code",
   "execution_count": 11,
   "metadata": {},
   "outputs": [
    {
     "data": {
      "text/plain": [
       "array(['male', 'female'], dtype=object)"
      ]
     },
     "execution_count": 11,
     "metadata": {},
     "output_type": "execute_result"
    }
   ],
   "source": [
    "train[\"Sex\"].unique()"
   ]
  },
  {
   "cell_type": "code",
   "execution_count": 13,
   "metadata": {},
   "outputs": [
    {
     "name": "stdout",
     "output_type": "stream",
     "text": [
      "0\n"
     ]
    }
   ],
   "source": [
    "train.loc[train[\"Sex\"] == \"male\", \"Sex\"] = 0\n",
    "train.loc[train[\"Sex\"] == \"female\", \"Sex\"] = 1\n",
    "mode_sex = train[\"Sex\"].mode()[0]\n",
    "print(mode_sex)\n",
    "train[\"Sex\"] = train[\"Sex\"].fillna(mode_sex)"
   ]
  },
  {
   "cell_type": "markdown",
   "metadata": {},
   "source": [
    "## T10"
   ]
  }
 ],
 "metadata": {
  "kernelspec": {
   "display_name": "Python 3",
   "language": "python",
   "name": "python3"
  },
  "language_info": {
   "codemirror_mode": {
    "name": "ipython",
    "version": 3
   },
   "file_extension": ".py",
   "mimetype": "text/x-python",
   "name": "python",
   "nbconvert_exporter": "python",
   "pygments_lexer": "ipython3",
   "version": "3.10.11"
  }
 },
 "nbformat": 4,
 "nbformat_minor": 2
}
